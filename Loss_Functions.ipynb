{
  "nbformat": 4,
  "nbformat_minor": 0,
  "metadata": {
    "colab": {
      "private_outputs": true,
      "provenance": [],
      "authorship_tag": "ABX9TyMDj6zTq879UmR4/Rsvek4B",
      "include_colab_link": true
    },
    "kernelspec": {
      "name": "python3",
      "display_name": "Python 3"
    },
    "language_info": {
      "name": "python"
    },
    "accelerator": "TPU"
  },
  "cells": [
    {
      "cell_type": "markdown",
      "metadata": {
        "id": "view-in-github",
        "colab_type": "text"
      },
      "source": [
        "<a href=\"https://colab.research.google.com/github/Artin200912/Deep-learning/blob/main/Loss_Functions.ipynb\" target=\"_parent\"><img src=\"https://colab.research.google.com/assets/colab-badge.svg\" alt=\"Open In Colab\"/></a>"
      ]
    },
    {
      "cell_type": "markdown",
      "source": [
        "# Loss Functions\n",
        "- we are going to implement some loss functions in python such as :\n",
        "\n",
        "> MSE ( Mean Squared Error)\n",
        "\n",
        "> MAE (Mean Absolute Error)\n",
        "\n"
      ],
      "metadata": {
        "id": "EVtZGIVAo81H"
      }
    },
    {
      "cell_type": "code",
      "source": [
        "import torch\n",
        "import torch.nn as nn\n",
        "import torch.nn.functional as F"
      ],
      "metadata": {
        "id": "DDLvOVcvpP7w"
      },
      "execution_count": null,
      "outputs": []
    },
    {
      "cell_type": "code",
      "source": [
        "yp = torch.tensor([-0.39, -0.47,  0.61, -0.75,  0.31, -0.54,  0.61, -2.83, 1.24,  0.10])\n",
        "\n",
        "yt = torch.tensor([-0.39,  1.00,  0.51, -0.85,  0.31, -0.04,  1.01, -0.55, 1.24,  0.10])"
      ],
      "metadata": {
        "id": "3qjtYTdbpU0B"
      },
      "execution_count": null,
      "outputs": []
    },
    {
      "cell_type": "markdown",
      "source": [
        "## Mean Squared Error (MSE)\n",
        "\\begin{align}\n",
        "MSE &= \\frac{1}{n} \\sum_{i=1}^n (y_{p_i}-y_{t_i})^2\n",
        "\\end{align}"
      ],
      "metadata": {
        "id": "jXTY1_i1p_vN"
      }
    },
    {
      "cell_type": "markdown",
      "source": [
        "### From scratch"
      ],
      "metadata": {
        "id": "x01kEuSSpvi4"
      }
    },
    {
      "cell_type": "code",
      "source": [
        "result = torch.mean((yp - yt) ** 2)\n",
        "print(result)"
      ],
      "metadata": {
        "id": "rmCRdRyZpx7B"
      },
      "execution_count": null,
      "outputs": []
    },
    {
      "cell_type": "markdown",
      "source": [
        "### The class in pytorch"
      ],
      "metadata": {
        "id": "SbLx2s4hrdsT"
      }
    },
    {
      "cell_type": "code",
      "source": [
        "mse = nn.MSELoss()\n",
        "mse(yp, yt)"
      ],
      "metadata": {
        "id": "uvmv-aibrhvH"
      },
      "execution_count": null,
      "outputs": []
    },
    {
      "cell_type": "markdown",
      "source": [
        "###MSE function in pytorch"
      ],
      "metadata": {
        "id": "7RcjKB5bs9Hf"
      }
    },
    {
      "cell_type": "code",
      "source": [
        "F.mse_loss(yp, yt)"
      ],
      "metadata": {
        "id": "G9aiwRPMr7KR"
      },
      "execution_count": null,
      "outputs": []
    },
    {
      "cell_type": "markdown",
      "source": [
        "## Mean Absolute Error (MAE)\n",
        "\\begin{align}\n",
        "MAE &= \\frac{1}{n} \\sum_{i=1}^n |y_{p_i}-y_{t_i}|\n",
        "\\end{align}"
      ],
      "metadata": {
        "id": "lWLojrFHuctW"
      }
    },
    {
      "cell_type": "markdown",
      "source": [
        "### From Scratch"
      ],
      "metadata": {
        "id": "vrQtTxpouhQW"
      }
    },
    {
      "cell_type": "code",
      "source": [
        "torch.mean(torch.abs(yp - yt))"
      ],
      "metadata": {
        "id": "hVbzXR9culct"
      },
      "execution_count": null,
      "outputs": []
    },
    {
      "cell_type": "markdown",
      "source": [
        "### MAE class in pytorch"
      ],
      "metadata": {
        "id": "T6ep_R5lur5Y"
      }
    },
    {
      "cell_type": "code",
      "source": [
        "mae = nn.L1Loss() #L1 is beacause of the L1 norm.\n",
        "mae(yp, yt)"
      ],
      "metadata": {
        "id": "pyfp08I-uumL"
      },
      "execution_count": null,
      "outputs": []
    },
    {
      "cell_type": "markdown",
      "source": [
        "### MAE Function in pytorch"
      ],
      "metadata": {
        "id": "cJoTYk7uu81C"
      }
    },
    {
      "cell_type": "code",
      "source": [
        "F.l1_loss(yp, yt)"
      ],
      "metadata": {
        "id": "KQ9PMli0u_ls"
      },
      "execution_count": null,
      "outputs": []
    },
    {
      "cell_type": "markdown",
      "source": [
        "# Connecting the neuron to a loss function"
      ],
      "metadata": {
        "id": "ABLyFDTAvIJb"
      }
    },
    {
      "cell_type": "code",
      "source": [
        "from logging import raiseExceptions\n",
        "class Neuron:\n",
        "  def __init__(self, m, af):\n",
        "    self.w = torch.randn(m)\n",
        "    self.b = torch.randn(1)\n",
        "    self.af = af\n",
        "  def __call__(self, x):\n",
        "    if self.af == 'step' :\n",
        "      y = self.step(torch.matmul(self.w, x) + self.b)\n",
        "    else:\n",
        "      raiseExceptions('Enter a valid activation function')\n",
        "    return y\n",
        "\n",
        "  def step(self, x):\n",
        "    if x > 0:\n",
        "      y = torch.tensor(1)\n",
        "    elif x < 0:\n",
        "      y = torch.tensor(0)\n",
        "    else:\n",
        "      y = torch.tensor(0.5)\n",
        "    return y"
      ],
      "metadata": {
        "id": "aYC-xY9yvR2i"
      },
      "execution_count": null,
      "outputs": []
    },
    {
      "cell_type": "code",
      "source": [
        "neuron = Neuron(5, 'step')"
      ],
      "metadata": {
        "id": "gPTaJVTHvmqG"
      },
      "execution_count": null,
      "outputs": []
    },
    {
      "cell_type": "code",
      "source": [
        "neuron.step(5)"
      ],
      "metadata": {
        "id": "Ttg6eDSIxNwf"
      },
      "execution_count": null,
      "outputs": []
    },
    {
      "cell_type": "code",
      "source": [
        "x = torch.tensor([[1., 2., 0., 4., 1.],\n",
        "                  [0., 1., 1., 1., 1.],\n",
        "                  [2., 3., 0., 1., 4.]])\n",
        "\n",
        "yt = torch.tensor([1., 2., 0.])"
      ],
      "metadata": {
        "id": "mVvP8pPHzycC"
      },
      "execution_count": null,
      "outputs": []
    },
    {
      "cell_type": "code",
      "source": [
        "yp = neuron(x[0])\n",
        "print(yp)"
      ],
      "metadata": {
        "id": "sTiKil9b0RsB"
      },
      "execution_count": null,
      "outputs": []
    },
    {
      "cell_type": "code",
      "source": [
        "error = F.mse_loss(yp, yt[0])\n",
        "print(error)"
      ],
      "metadata": {
        "id": "3r8UKJ9W0WfV"
      },
      "execution_count": null,
      "outputs": []
    },
    {
      "cell_type": "code",
      "source": [
        "error1 = F.l1_loss(yp, yt[0].squeeze(0))\n",
        "print(error1)"
      ],
      "metadata": {
        "id": "bKclMDJN30q6"
      },
      "execution_count": null,
      "outputs": []
    },
    {
      "cell_type": "code",
      "source": [],
      "metadata": {
        "id": "6TUgvQ7337In"
      },
      "execution_count": null,
      "outputs": []
    }
  ]
}